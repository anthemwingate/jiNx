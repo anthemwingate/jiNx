{
  "nbformat": 4,
  "nbformat_minor": 0,
  "metadata": {
    "colab": {
      "name": "jiNx_MultivariateRegression.ipynb",
      "provenance": [],
      "collapsed_sections": []
    },
    "kernelspec": {
      "name": "python3",
      "display_name": "Python 3"
    }
  },
  "cells": [
    {
      "cell_type": "code",
      "metadata": {
        "id": "KBkpRgBCBS2_",
        "colab": {
          "base_uri": "https://localhost:8080/"
        },
        "outputId": "6bd2142e-9375-46e5-96db-8907cfab84ca"
      },
      "source": [
        "# Prep environment:  setup commandline method and import necessary libraries\n",
        "\n",
        "from __future__ import absolute_import, division, print_function, unicode_literals\n",
        "from google.colab import files\n",
        "from google.colab import drive\n",
        "import tarfile\n",
        "import os\n",
        "import json\n",
        "import requests\n",
        "import sys\n",
        "import shutil\n",
        "import re\n",
        "from tqdm import tqdm, trange\n",
        "import numpy as np\n",
        "import tensorflow as tf\n",
        "from tensorflow.core.protobuf import rewriter_config_pb2\n",
        "from tensorflow.python.client import device_lib\n",
        "import time\n",
        "from datetime import datetime\n",
        "import csv\n",
        "import argparse\n",
        "import pandas as pd\n",
        "import matplotlib.pyplot as plt\n",
        "from IPython.display import clear_output\n",
        "from six.moves import urllib\n",
        "import tensorflow.compat.v2.feature_column as fc\n",
        "from matplotlib import pyplot as plt\n",
        "import seaborn as sns\n",
        "from sklearn.pipeline import make_pipeline\n",
        "from sklearn.linear_model import Ridge, Lasso, ElasticNet\n",
        "from sklearn.ensemble import RandomForestRegressor, GradientBoostingRegressor\n",
        "from sklearn.model_selection import GridSearchCV\n",
        "from sklearn.exceptions import NotFittedError\n",
        "from sklearn.model_selection import train_test_split\n",
        "from sklearn.metrics import r2_score, mean_absolute_error\n",
        "\n",
        "# Run and print a shell command.\n",
        "def run(cmd):\n",
        "  print('>> {}'.format(cmd))\n",
        "  !{cmd}  # This command runs the user input as a command in the shell.  This code cell can be reused for other necessary activities in the shell.\n",
        "\n",
        "# first run pip to install necessary modules\n",
        "!pip install -q sklearn\n",
        "\n",
        "# add tensor flow \n",
        "%tensorflow_version 2.x \n",
        "\n",
        "file_name = 'init.csv'  #@param {type: \"string\"}\n",
        "drive.mount('/content/drive')\n",
        "run('mkdir -p src/')\n",
        "run('ls -lh src/')"
      ],
      "execution_count": null,
      "outputs": [
        {
          "output_type": "stream",
          "text": [
            "Mounted at /content/drive\n",
            ">> mkdir -p src/\n",
            ">> ls -lh src/\n",
            "total 0\n"
          ],
          "name": "stdout"
        }
      ]
    },
    {
      "cell_type": "code",
      "metadata": {
        "colab": {
          "base_uri": "https://localhost:8080/"
        },
        "id": "MgAUJpL0tUo2",
        "outputId": "27553c7e-20f8-4dd6-ce51-ca149420e7ea"
      },
      "source": [
        "# transfer training file to notebook directory\n",
        "file_dest = \"src/\" + file_name\n",
        "shutil.copyfile(src=\"/content/drive/My Drive/\" + file_name, dst=file_dest)\n",
        "run('ls -lh src/')"
      ],
      "execution_count": null,
      "outputs": [
        {
          "output_type": "stream",
          "text": [
            ">> ls -lh src/\n",
            "total 16K\n",
            "-rw-r--r-- 1 root root 15K Apr 15 05:44 init.csv\n"
          ],
          "name": "stdout"
        }
      ]
    },
    {
      "cell_type": "code",
      "metadata": {
        "id": "aG6J19P8xfjn"
      },
      "source": [
        "# Load dataset.\n",
        "dftrain = pd.read_csv(file_dest)"
      ],
      "execution_count": null,
      "outputs": []
    },
    {
      "cell_type": "code",
      "metadata": {
        "colab": {
          "base_uri": "https://localhost:8080/",
          "height": 202
        },
        "id": "ILJuLHijxoA7",
        "outputId": "942ddeb6-8036-4717-e0aa-166655028713"
      },
      "source": [
        "dftrain.head()"
      ],
      "execution_count": null,
      "outputs": [
        {
          "output_type": "execute_result",
          "data": {
            "text/html": [
              "<div>\n",
              "<style scoped>\n",
              "    .dataframe tbody tr th:only-of-type {\n",
              "        vertical-align: middle;\n",
              "    }\n",
              "\n",
              "    .dataframe tbody tr th {\n",
              "        vertical-align: top;\n",
              "    }\n",
              "\n",
              "    .dataframe thead th {\n",
              "        text-align: right;\n",
              "    }\n",
              "</style>\n",
              "<table border=\"1\" class=\"dataframe\">\n",
              "  <thead>\n",
              "    <tr style=\"text-align: right;\">\n",
              "      <th></th>\n",
              "      <th>ANGER</th>\n",
              "      <th>DISGUST</th>\n",
              "      <th>FEAR</th>\n",
              "      <th>JOY</th>\n",
              "      <th>SADNESS</th>\n",
              "      <th>TENTATIVE</th>\n",
              "      <th>ANALYTICAL</th>\n",
              "      <th>CONFIDENT</th>\n",
              "      <th>VIEWS</th>\n",
              "    </tr>\n",
              "  </thead>\n",
              "  <tbody>\n",
              "    <tr>\n",
              "      <th>0</th>\n",
              "      <td>0.576674</td>\n",
              "      <td>0</td>\n",
              "      <td>0.0</td>\n",
              "      <td>0.000000</td>\n",
              "      <td>0.000000</td>\n",
              "      <td>0.700148</td>\n",
              "      <td>0.587578</td>\n",
              "      <td>0.793762</td>\n",
              "      <td>4034155</td>\n",
              "    </tr>\n",
              "    <tr>\n",
              "      <th>1</th>\n",
              "      <td>0.000000</td>\n",
              "      <td>0</td>\n",
              "      <td>0.0</td>\n",
              "      <td>0.697598</td>\n",
              "      <td>0.604259</td>\n",
              "      <td>0.797051</td>\n",
              "      <td>0.749305</td>\n",
              "      <td>0.865994</td>\n",
              "      <td>368612</td>\n",
              "    </tr>\n",
              "    <tr>\n",
              "      <th>2</th>\n",
              "      <td>0.584267</td>\n",
              "      <td>0</td>\n",
              "      <td>0.0</td>\n",
              "      <td>0.000000</td>\n",
              "      <td>0.581470</td>\n",
              "      <td>0.727649</td>\n",
              "      <td>0.578724</td>\n",
              "      <td>0.808171</td>\n",
              "      <td>5498684</td>\n",
              "    </tr>\n",
              "    <tr>\n",
              "      <th>3</th>\n",
              "      <td>0.597095</td>\n",
              "      <td>0</td>\n",
              "      <td>0.0</td>\n",
              "      <td>0.553043</td>\n",
              "      <td>0.813960</td>\n",
              "      <td>0.599641</td>\n",
              "      <td>0.570430</td>\n",
              "      <td>0.749891</td>\n",
              "      <td>138764</td>\n",
              "    </tr>\n",
              "    <tr>\n",
              "      <th>4</th>\n",
              "      <td>0.618312</td>\n",
              "      <td>0</td>\n",
              "      <td>0.0</td>\n",
              "      <td>0.000000</td>\n",
              "      <td>0.000000</td>\n",
              "      <td>0.789754</td>\n",
              "      <td>0.575111</td>\n",
              "      <td>0.751512</td>\n",
              "      <td>150865</td>\n",
              "    </tr>\n",
              "  </tbody>\n",
              "</table>\n",
              "</div>"
            ],
            "text/plain": [
              "      ANGER  DISGUST  FEAR       JOY  ...  TENTATIVE  ANALYTICAL  CONFIDENT    VIEWS\n",
              "0  0.576674        0   0.0  0.000000  ...   0.700148    0.587578   0.793762  4034155\n",
              "1  0.000000        0   0.0  0.697598  ...   0.797051    0.749305   0.865994   368612\n",
              "2  0.584267        0   0.0  0.000000  ...   0.727649    0.578724   0.808171  5498684\n",
              "3  0.597095        0   0.0  0.553043  ...   0.599641    0.570430   0.749891   138764\n",
              "4  0.618312        0   0.0  0.000000  ...   0.789754    0.575111   0.751512   150865\n",
              "\n",
              "[5 rows x 9 columns]"
            ]
          },
          "metadata": {
            "tags": []
          },
          "execution_count": 4
        }
      ]
    },
    {
      "cell_type": "code",
      "metadata": {
        "colab": {
          "base_uri": "https://localhost:8080/",
          "height": 202
        },
        "id": "y7S_NAxjzoKL",
        "outputId": "60ee144b-7d8a-46f3-efd1-cf4adc6ae256"
      },
      "source": [
        "dftrain.tail()"
      ],
      "execution_count": null,
      "outputs": [
        {
          "output_type": "execute_result",
          "data": {
            "text/html": [
              "<div>\n",
              "<style scoped>\n",
              "    .dataframe tbody tr th:only-of-type {\n",
              "        vertical-align: middle;\n",
              "    }\n",
              "\n",
              "    .dataframe tbody tr th {\n",
              "        vertical-align: top;\n",
              "    }\n",
              "\n",
              "    .dataframe thead th {\n",
              "        text-align: right;\n",
              "    }\n",
              "</style>\n",
              "<table border=\"1\" class=\"dataframe\">\n",
              "  <thead>\n",
              "    <tr style=\"text-align: right;\">\n",
              "      <th></th>\n",
              "      <th>ANGER</th>\n",
              "      <th>DISGUST</th>\n",
              "      <th>FEAR</th>\n",
              "      <th>JOY</th>\n",
              "      <th>SADNESS</th>\n",
              "      <th>TENTATIVE</th>\n",
              "      <th>ANALYTICAL</th>\n",
              "      <th>CONFIDENT</th>\n",
              "      <th>VIEWS</th>\n",
              "    </tr>\n",
              "  </thead>\n",
              "  <tbody>\n",
              "    <tr>\n",
              "      <th>221</th>\n",
              "      <td>0.567360</td>\n",
              "      <td>0</td>\n",
              "      <td>0.0</td>\n",
              "      <td>0.000000</td>\n",
              "      <td>0.000000</td>\n",
              "      <td>0.660003</td>\n",
              "      <td>0.602623</td>\n",
              "      <td>0.848848</td>\n",
              "      <td>168483</td>\n",
              "    </tr>\n",
              "    <tr>\n",
              "      <th>222</th>\n",
              "      <td>0.596254</td>\n",
              "      <td>0</td>\n",
              "      <td>0.0</td>\n",
              "      <td>0.000000</td>\n",
              "      <td>0.000000</td>\n",
              "      <td>0.706297</td>\n",
              "      <td>0.595788</td>\n",
              "      <td>0.782686</td>\n",
              "      <td>279623</td>\n",
              "    </tr>\n",
              "    <tr>\n",
              "      <th>223</th>\n",
              "      <td>0.000000</td>\n",
              "      <td>0</td>\n",
              "      <td>0.0</td>\n",
              "      <td>0.651814</td>\n",
              "      <td>0.614615</td>\n",
              "      <td>0.840001</td>\n",
              "      <td>0.654551</td>\n",
              "      <td>0.833419</td>\n",
              "      <td>73882</td>\n",
              "    </tr>\n",
              "    <tr>\n",
              "      <th>224</th>\n",
              "      <td>0.571727</td>\n",
              "      <td>0</td>\n",
              "      <td>0.0</td>\n",
              "      <td>0.000000</td>\n",
              "      <td>0.000000</td>\n",
              "      <td>0.712449</td>\n",
              "      <td>0.589308</td>\n",
              "      <td>0.889641</td>\n",
              "      <td>116713</td>\n",
              "    </tr>\n",
              "    <tr>\n",
              "      <th>225</th>\n",
              "      <td>0.577606</td>\n",
              "      <td>0</td>\n",
              "      <td>0.0</td>\n",
              "      <td>0.000000</td>\n",
              "      <td>0.000000</td>\n",
              "      <td>0.671881</td>\n",
              "      <td>0.622282</td>\n",
              "      <td>0.831641</td>\n",
              "      <td>146227</td>\n",
              "    </tr>\n",
              "  </tbody>\n",
              "</table>\n",
              "</div>"
            ],
            "text/plain": [
              "        ANGER  DISGUST  FEAR  ...  ANALYTICAL  CONFIDENT   VIEWS\n",
              "221  0.567360        0   0.0  ...    0.602623   0.848848  168483\n",
              "222  0.596254        0   0.0  ...    0.595788   0.782686  279623\n",
              "223  0.000000        0   0.0  ...    0.654551   0.833419   73882\n",
              "224  0.571727        0   0.0  ...    0.589308   0.889641  116713\n",
              "225  0.577606        0   0.0  ...    0.622282   0.831641  146227\n",
              "\n",
              "[5 rows x 9 columns]"
            ]
          },
          "metadata": {
            "tags": []
          },
          "execution_count": 5
        }
      ]
    },
    {
      "cell_type": "code",
      "metadata": {
        "colab": {
          "base_uri": "https://localhost:8080/"
        },
        "id": "CK9I-QfEzvlA",
        "outputId": "456a986a-35c5-4351-f408-c7547bfb0c0d"
      },
      "source": [
        "dftrain.info()"
      ],
      "execution_count": null,
      "outputs": [
        {
          "output_type": "stream",
          "text": [
            "<class 'pandas.core.frame.DataFrame'>\n",
            "RangeIndex: 226 entries, 0 to 225\n",
            "Data columns (total 9 columns):\n",
            " #   Column      Non-Null Count  Dtype  \n",
            "---  ------      --------------  -----  \n",
            " 0   ANGER       226 non-null    float64\n",
            " 1   DISGUST     226 non-null    int64  \n",
            " 2   FEAR        226 non-null    float64\n",
            " 3   JOY         226 non-null    float64\n",
            " 4   SADNESS     226 non-null    float64\n",
            " 5   TENTATIVE   226 non-null    float64\n",
            " 6   ANALYTICAL  226 non-null    float64\n",
            " 7   CONFIDENT   226 non-null    float64\n",
            " 8   VIEWS       226 non-null    int64  \n",
            "dtypes: float64(7), int64(2)\n",
            "memory usage: 16.0 KB\n"
          ],
          "name": "stdout"
        }
      ]
    },
    {
      "cell_type": "code",
      "metadata": {
        "colab": {
          "base_uri": "https://localhost:8080/",
          "height": 294
        },
        "id": "UtpD0IJT0Ie4",
        "outputId": "e40d2db5-0f82-447e-d17f-ae91844d6726"
      },
      "source": [
        "dftrain.describe()"
      ],
      "execution_count": null,
      "outputs": [
        {
          "output_type": "execute_result",
          "data": {
            "text/html": [
              "<div>\n",
              "<style scoped>\n",
              "    .dataframe tbody tr th:only-of-type {\n",
              "        vertical-align: middle;\n",
              "    }\n",
              "\n",
              "    .dataframe tbody tr th {\n",
              "        vertical-align: top;\n",
              "    }\n",
              "\n",
              "    .dataframe thead th {\n",
              "        text-align: right;\n",
              "    }\n",
              "</style>\n",
              "<table border=\"1\" class=\"dataframe\">\n",
              "  <thead>\n",
              "    <tr style=\"text-align: right;\">\n",
              "      <th></th>\n",
              "      <th>ANGER</th>\n",
              "      <th>DISGUST</th>\n",
              "      <th>FEAR</th>\n",
              "      <th>JOY</th>\n",
              "      <th>SADNESS</th>\n",
              "      <th>TENTATIVE</th>\n",
              "      <th>ANALYTICAL</th>\n",
              "      <th>CONFIDENT</th>\n",
              "      <th>VIEWS</th>\n",
              "    </tr>\n",
              "  </thead>\n",
              "  <tbody>\n",
              "    <tr>\n",
              "      <th>count</th>\n",
              "      <td>226.000000</td>\n",
              "      <td>226.0</td>\n",
              "      <td>226.000000</td>\n",
              "      <td>226.000000</td>\n",
              "      <td>226.000000</td>\n",
              "      <td>226.000000</td>\n",
              "      <td>226.000000</td>\n",
              "      <td>226.000000</td>\n",
              "      <td>2.260000e+02</td>\n",
              "    </tr>\n",
              "    <tr>\n",
              "      <th>mean</th>\n",
              "      <td>0.459608</td>\n",
              "      <td>0.0</td>\n",
              "      <td>0.135158</td>\n",
              "      <td>0.379476</td>\n",
              "      <td>0.314625</td>\n",
              "      <td>0.672091</td>\n",
              "      <td>0.638810</td>\n",
              "      <td>0.635032</td>\n",
              "      <td>2.730170e+06</td>\n",
              "    </tr>\n",
              "    <tr>\n",
              "      <th>std</th>\n",
              "      <td>0.257486</td>\n",
              "      <td>0.0</td>\n",
              "      <td>0.277992</td>\n",
              "      <td>0.334405</td>\n",
              "      <td>0.306333</td>\n",
              "      <td>0.226021</td>\n",
              "      <td>0.099838</td>\n",
              "      <td>0.296438</td>\n",
              "      <td>4.590516e+06</td>\n",
              "    </tr>\n",
              "    <tr>\n",
              "      <th>min</th>\n",
              "      <td>0.000000</td>\n",
              "      <td>0.0</td>\n",
              "      <td>0.000000</td>\n",
              "      <td>0.000000</td>\n",
              "      <td>0.000000</td>\n",
              "      <td>0.000000</td>\n",
              "      <td>0.000000</td>\n",
              "      <td>0.000000</td>\n",
              "      <td>2.310000e+02</td>\n",
              "    </tr>\n",
              "    <tr>\n",
              "      <th>25%</th>\n",
              "      <td>0.544876</td>\n",
              "      <td>0.0</td>\n",
              "      <td>0.000000</td>\n",
              "      <td>0.000000</td>\n",
              "      <td>0.000000</td>\n",
              "      <td>0.679647</td>\n",
              "      <td>0.575079</td>\n",
              "      <td>0.656784</td>\n",
              "      <td>1.810078e+05</td>\n",
              "    </tr>\n",
              "    <tr>\n",
              "      <th>50%</th>\n",
              "      <td>0.577548</td>\n",
              "      <td>0.0</td>\n",
              "      <td>0.000000</td>\n",
              "      <td>0.585407</td>\n",
              "      <td>0.517019</td>\n",
              "      <td>0.719143</td>\n",
              "      <td>0.591673</td>\n",
              "      <td>0.757996</td>\n",
              "      <td>1.068544e+06</td>\n",
              "    </tr>\n",
              "    <tr>\n",
              "      <th>75%</th>\n",
              "      <td>0.593131</td>\n",
              "      <td>0.0</td>\n",
              "      <td>0.000000</td>\n",
              "      <td>0.682706</td>\n",
              "      <td>0.588549</td>\n",
              "      <td>0.787256</td>\n",
              "      <td>0.713815</td>\n",
              "      <td>0.800187</td>\n",
              "      <td>3.053580e+06</td>\n",
              "    </tr>\n",
              "    <tr>\n",
              "      <th>max</th>\n",
              "      <td>0.931034</td>\n",
              "      <td>0.0</td>\n",
              "      <td>0.931034</td>\n",
              "      <td>0.880435</td>\n",
              "      <td>0.916667</td>\n",
              "      <td>0.984352</td>\n",
              "      <td>0.997932</td>\n",
              "      <td>0.942582</td>\n",
              "      <td>4.155812e+07</td>\n",
              "    </tr>\n",
              "  </tbody>\n",
              "</table>\n",
              "</div>"
            ],
            "text/plain": [
              "            ANGER  DISGUST        FEAR  ...  ANALYTICAL   CONFIDENT         VIEWS\n",
              "count  226.000000    226.0  226.000000  ...  226.000000  226.000000  2.260000e+02\n",
              "mean     0.459608      0.0    0.135158  ...    0.638810    0.635032  2.730170e+06\n",
              "std      0.257486      0.0    0.277992  ...    0.099838    0.296438  4.590516e+06\n",
              "min      0.000000      0.0    0.000000  ...    0.000000    0.000000  2.310000e+02\n",
              "25%      0.544876      0.0    0.000000  ...    0.575079    0.656784  1.810078e+05\n",
              "50%      0.577548      0.0    0.000000  ...    0.591673    0.757996  1.068544e+06\n",
              "75%      0.593131      0.0    0.000000  ...    0.713815    0.800187  3.053580e+06\n",
              "max      0.931034      0.0    0.931034  ...    0.997932    0.942582  4.155812e+07\n",
              "\n",
              "[8 rows x 9 columns]"
            ]
          },
          "metadata": {
            "tags": []
          },
          "execution_count": 8
        }
      ]
    },
    {
      "cell_type": "code",
      "metadata": {
        "id": "r5IsADXA0V8b"
      },
      "source": [
        "x = dftrain.drop('VIEWS', axis=1)\n",
        "y = dftrain['VIEWS']"
      ],
      "execution_count": null,
      "outputs": []
    },
    {
      "cell_type": "code",
      "metadata": {
        "id": "a38jC1NY48yv"
      },
      "source": [
        "x_train,  x_test, y_train, y_test = train_test_split(x, y, test_size=0.3, random_state=1234)"
      ],
      "execution_count": null,
      "outputs": []
    },
    {
      "cell_type": "code",
      "metadata": {
        "colab": {
          "base_uri": "https://localhost:8080/"
        },
        "id": "Vkjri43q5jnm",
        "outputId": "fe4d4fc8-9da0-48bb-ec12-9e653fb944ca"
      },
      "source": [
        "print(x_train.shape, x_test.shape, y_train.shape, y_test.shape)"
      ],
      "execution_count": null,
      "outputs": [
        {
          "output_type": "stream",
          "text": [
            "(158, 8) (68, 8) (158,) (68,)\n"
          ],
          "name": "stdout"
        }
      ]
    },
    {
      "cell_type": "code",
      "metadata": {
        "id": "y0U2h1vQ7VZp"
      },
      "source": [
        "pipelines = {\n",
        "    'rf':make_pipeline(RandomForestRegressor(random_state=1234)),\n",
        "    'gb':make_pipeline(GradientBoostingRegressor(random_state=1234)),\n",
        "    'ridge':make_pipeline(Ridge(random_state=1234)),\n",
        "    'lasso':make_pipeline(Lasso(random_state=1234)),\n",
        "    'enet':make_pipeline(ElasticNet(random_state=1234)),\n",
        "}"
      ],
      "execution_count": null,
      "outputs": []
    },
    {
      "cell_type": "code",
      "metadata": {
        "id": "zzVKYUxJ7s0y"
      },
      "source": [
        "hypergrid = {\n",
        "    'rf': {\n",
        "        'randomforestregressor__min_samples_split':[2,4,6],\n",
        "        'randomforestregressor__min_samples_leaf':[1,2,3]\n",
        "    },\n",
        "    'gb':{\n",
        "        'gradientboostingregressor__alpha':[0.001, 0.005, 0.01, 0.05, 0.1, 0.5, 0.99]\n",
        "    },\n",
        "    'ridge':{\n",
        "        'ridge__alpha':[0.001, 0.005, 0.01, 0.05, 0.1, 0.5, 0.99]\n",
        "    },\n",
        "    'lasso':{\n",
        "        'lasso__alpha':[0.001, 0.005, 0.01, 0.05, 0.1, 0.5, 0.99]\n",
        "    },\n",
        "    'enet':{\n",
        "        'elasticnet__alpha':[0.001, 0.005, 0.01, 0.05, 0.1, 0.5, 0.99]\n",
        "    }\n",
        "}"
      ],
      "execution_count": null,
      "outputs": []
    },
    {
      "cell_type": "code",
      "metadata": {
        "colab": {
          "base_uri": "https://localhost:8080/"
        },
        "id": "13viyBIs8ai_",
        "outputId": "0e1483f3-c64c-46b8-b8b6-9a68e94ec167"
      },
      "source": [
        "fit_models = {}\n",
        "for algo, pipeline in pipelines.items():\n",
        "    model = GridSearchCV(pipeline, hypergrid[algo], cv=10, n_jobs=-1)\n",
        "    try:\n",
        "        print('Starting training for {}.'.format(algo))\n",
        "        model.fit(x_train, y_train)\n",
        "        fit_models[algo] = model\n",
        "        print('{} has been successfully fit.'.format(algo))\n",
        "    except NotFittedError as e:\n",
        "        print(repr(e))\n"
      ],
      "execution_count": null,
      "outputs": [
        {
          "output_type": "stream",
          "text": [
            "Starting training for rf.\n",
            "rf has been successfully fit.\n",
            "Starting training for gb.\n",
            "gb has been successfully fit.\n",
            "Starting training for ridge.\n",
            "ridge has been successfully fit.\n",
            "Starting training for lasso.\n",
            "lasso has been successfully fit.\n",
            "Starting training for enet.\n",
            "enet has been successfully fit.\n"
          ],
          "name": "stdout"
        }
      ]
    },
    {
      "cell_type": "code",
      "metadata": {
        "colab": {
          "base_uri": "https://localhost:8080/"
        },
        "id": "1UaINpIF8oDH",
        "outputId": "689feefb-0aeb-41a9-c8b3-ee6bf621ff46"
      },
      "source": [
        "for algo,model in fit_models.items():\n",
        "    yhat = model.predict(x_test)\n",
        "    print('{} scores - R2:{} MAE:{}'.format(algo, r2_score(y_test, yhat), mean_absolute_error(y_test, yhat)))"
      ],
      "execution_count": null,
      "outputs": [
        {
          "output_type": "stream",
          "text": [
            "rf scores - R2:-0.03187040258222984 MAE:3260354.8621074716\n",
            "gb scores - R2:0.09778305878187799 MAE:3298714.1703288467\n",
            "ridge scores - R2:-0.04174772661925652 MAE:3187476.559083056\n",
            "lasso scores - R2:-0.04522098218969095 MAE:3178898.0400933195\n",
            "enet scores - R2:-0.02106120162627767 MAE:3168075.51445737\n"
          ],
          "name": "stdout"
        }
      ]
    },
    {
      "cell_type": "code",
      "metadata": {
        "id": "kiz8c92K9pDj"
      },
      "source": [
        "best_model = fit_models['gb']"
      ],
      "execution_count": null,
      "outputs": []
    }
  ]
}